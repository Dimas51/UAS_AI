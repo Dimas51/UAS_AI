{
 "cells": [
  {
   "cell_type": "code",
   "execution_count": 4,
   "id": "a8603e6d",
   "metadata": {},
   "outputs": [],
   "source": [
    "# Import libraries\n",
    "import pandas as pd\n",
    "import numpy as np\n",
    "import tensorflow as tf\n",
    "from sklearn.model_selection import train_test_split"
   ]
  },
  {
   "cell_type": "code",
   "execution_count": 5,
   "id": "23fa837d",
   "metadata": {},
   "outputs": [],
   "source": [
    "# Import data\n",
    "df = pd.read_csv('iris.csv')"
   ]
  },
  {
   "cell_type": "code",
   "execution_count": 7,
   "id": "ee39def3",
   "metadata": {},
   "outputs": [],
   "source": [
    "# Split the data into train and test sets\n",
    "train, test = train_test_split(df, test_size=0.2, random_state=42, shuffle=True)"
   ]
  },
  {
   "cell_type": "code",
   "execution_count": 12,
   "id": "24539224",
   "metadata": {},
   "outputs": [],
   "source": [
    "# Construct the input\n",
    "x = np.column_stack((train['sepal_length'].values, train['sepal_width'].values))\n",
    "y = train['petal_length'].values"
   ]
  },
  {
   "cell_type": "code",
   "execution_count": 11,
   "id": "bf941d21",
   "metadata": {},
   "outputs": [
    {
     "name": "stdout",
     "output_type": "stream",
     "text": [
      "Index(['sepal_length', 'sepal_width', 'petal_length', 'petal_width',\n",
      "       'species'],\n",
      "      dtype='object')\n"
     ]
    }
   ],
   "source": [
    "print(train.columns)"
   ]
  },
  {
   "cell_type": "code",
   "execution_count": 15,
   "id": "f767dbe4",
   "metadata": {},
   "outputs": [
    {
     "name": "stdout",
     "output_type": "stream",
     "text": [
      "Epoch 1/50\n",
      "15/15 [==============================] - 2s 5ms/step - loss: 9.0875 - mse: 9.0875\n",
      "Epoch 2/50\n",
      "15/15 [==============================] - 0s 6ms/step - loss: 6.1813 - mse: 6.1813\n",
      "Epoch 3/50\n",
      "15/15 [==============================] - 0s 6ms/step - loss: 4.1906 - mse: 4.1906\n",
      "Epoch 4/50\n",
      "15/15 [==============================] - 0s 6ms/step - loss: 5.2472 - mse: 5.2472\n",
      "Epoch 5/50\n",
      "15/15 [==============================] - 0s 6ms/step - loss: 3.5675 - mse: 3.5675\n",
      "Epoch 6/50\n",
      "15/15 [==============================] - 0s 6ms/step - loss: 4.2743 - mse: 4.2743\n",
      "Epoch 7/50\n",
      "15/15 [==============================] - 0s 6ms/step - loss: 3.5141 - mse: 3.5141\n",
      "Epoch 8/50\n",
      "15/15 [==============================] - 0s 6ms/step - loss: 3.0865 - mse: 3.0865\n",
      "Epoch 9/50\n",
      "15/15 [==============================] - 0s 11ms/step - loss: 2.8411 - mse: 2.8411\n",
      "Epoch 10/50\n",
      "15/15 [==============================] - 0s 15ms/step - loss: 3.4764 - mse: 3.4764\n",
      "Epoch 11/50\n",
      "15/15 [==============================] - 0s 6ms/step - loss: 2.5834 - mse: 2.5834\n",
      "Epoch 12/50\n",
      "15/15 [==============================] - 0s 6ms/step - loss: 2.5795 - mse: 2.5795\n",
      "Epoch 13/50\n",
      "15/15 [==============================] - 0s 5ms/step - loss: 2.8354 - mse: 2.8354\n",
      "Epoch 14/50\n",
      "15/15 [==============================] - 0s 6ms/step - loss: 1.9355 - mse: 1.9355\n",
      "Epoch 15/50\n",
      "15/15 [==============================] - 0s 18ms/step - loss: 1.9843 - mse: 1.9843\n",
      "Epoch 16/50\n",
      "15/15 [==============================] - 0s 8ms/step - loss: 2.2830 - mse: 2.2830\n",
      "Epoch 17/50\n",
      "15/15 [==============================] - 0s 5ms/step - loss: 1.7938 - mse: 1.7938\n",
      "Epoch 18/50\n",
      "15/15 [==============================] - 0s 5ms/step - loss: 1.9102 - mse: 1.9102\n",
      "Epoch 19/50\n",
      "15/15 [==============================] - 0s 5ms/step - loss: 2.0747 - mse: 2.0747\n",
      "Epoch 20/50\n",
      "15/15 [==============================] - 0s 5ms/step - loss: 2.0479 - mse: 2.0479\n",
      "Epoch 21/50\n",
      "15/15 [==============================] - 0s 6ms/step - loss: 2.3374 - mse: 2.3374\n",
      "Epoch 22/50\n",
      "15/15 [==============================] - 0s 6ms/step - loss: 1.9570 - mse: 1.9570\n",
      "Epoch 23/50\n",
      "15/15 [==============================] - 0s 6ms/step - loss: 1.8209 - mse: 1.8209\n",
      "Epoch 24/50\n",
      "15/15 [==============================] - 0s 6ms/step - loss: 2.0076 - mse: 2.0076\n",
      "Epoch 25/50\n",
      "15/15 [==============================] - 0s 5ms/step - loss: 1.7927 - mse: 1.7927\n",
      "Epoch 26/50\n",
      "15/15 [==============================] - 0s 5ms/step - loss: 1.8517 - mse: 1.8517\n",
      "Epoch 27/50\n",
      "15/15 [==============================] - 0s 5ms/step - loss: 1.9292 - mse: 1.9292\n",
      "Epoch 28/50\n",
      "15/15 [==============================] - 0s 6ms/step - loss: 2.0823 - mse: 2.0823\n",
      "Epoch 29/50\n",
      "15/15 [==============================] - 0s 5ms/step - loss: 1.6262 - mse: 1.6262\n",
      "Epoch 30/50\n",
      "15/15 [==============================] - 0s 4ms/step - loss: 1.8406 - mse: 1.8406\n",
      "Epoch 31/50\n",
      "15/15 [==============================] - 0s 5ms/step - loss: 1.7830 - mse: 1.7830\n",
      "Epoch 32/50\n",
      "15/15 [==============================] - 0s 5ms/step - loss: 1.7386 - mse: 1.7386\n",
      "Epoch 33/50\n",
      "15/15 [==============================] - 0s 5ms/step - loss: 1.6117 - mse: 1.6117\n",
      "Epoch 34/50\n",
      "15/15 [==============================] - 0s 6ms/step - loss: 1.8176 - mse: 1.8176\n",
      "Epoch 35/50\n",
      "15/15 [==============================] - 0s 5ms/step - loss: 1.5460 - mse: 1.5460\n",
      "Epoch 36/50\n",
      "15/15 [==============================] - 0s 5ms/step - loss: 1.6303 - mse: 1.6303\n",
      "Epoch 37/50\n",
      "15/15 [==============================] - 0s 6ms/step - loss: 1.4675 - mse: 1.4675\n",
      "Epoch 38/50\n",
      "15/15 [==============================] - 0s 6ms/step - loss: 1.4857 - mse: 1.4857\n",
      "Epoch 39/50\n",
      "15/15 [==============================] - 0s 4ms/step - loss: 1.6005 - mse: 1.6005\n",
      "Epoch 40/50\n",
      "15/15 [==============================] - 0s 4ms/step - loss: 1.6307 - mse: 1.6307\n",
      "Epoch 41/50\n",
      "15/15 [==============================] - 0s 6ms/step - loss: 1.8174 - mse: 1.8174\n",
      "Epoch 42/50\n",
      "15/15 [==============================] - 0s 5ms/step - loss: 1.5317 - mse: 1.5317\n",
      "Epoch 43/50\n",
      "15/15 [==============================] - 0s 5ms/step - loss: 1.5700 - mse: 1.5700\n",
      "Epoch 44/50\n",
      "15/15 [==============================] - 0s 5ms/step - loss: 1.9723 - mse: 1.9723\n",
      "Epoch 45/50\n",
      "15/15 [==============================] - 0s 5ms/step - loss: 1.4030 - mse: 1.4030\n",
      "Epoch 46/50\n",
      "15/15 [==============================] - 0s 6ms/step - loss: 1.8048 - mse: 1.8048\n",
      "Epoch 47/50\n",
      "15/15 [==============================] - 0s 5ms/step - loss: 1.7169 - mse: 1.7169\n",
      "Epoch 48/50\n",
      "15/15 [==============================] - 0s 5ms/step - loss: 1.9046 - mse: 1.9046\n",
      "Epoch 49/50\n",
      "15/15 [==============================] - 0s 5ms/step - loss: 1.6225 - mse: 1.6225\n",
      "Epoch 50/50\n",
      "15/15 [==============================] - 0s 4ms/step - loss: 1.5919 - mse: 1.5919\n"
     ]
    },
    {
     "data": {
      "text/plain": [
       "<keras.callbacks.History at 0x1c1f2b73a90>"
      ]
     },
     "execution_count": 15,
     "metadata": {},
     "output_type": "execute_result"
    }
   ],
   "source": [
    "# Define the model\n",
    "model = tf.keras.Sequential([\n",
    "    tf.keras.layers.Dense(8, input_shape=(2,), activation='relu'),\n",
    "    tf.keras.layers.Dropout(0.2),\n",
    "    tf.keras.layers.Dense(4, activation='relu'),\n",
    "    tf.keras.layers.Dropout(0.2),\n",
    "    tf.keras.layers.Dense(1)\n",
    "])\n",
    "\n",
    "# Compile the model\n",
    "model.compile(optimizer='sgd',\n",
    "              loss=tf.keras.losses.MeanSquaredError(),\n",
    "              metrics=['mse'])\n",
    "\n",
    "# Fit the model\n",
    "model.fit(x, y, epochs=50, batch_size=8)"
   ]
  },
  {
   "cell_type": "code",
   "execution_count": 16,
   "id": "e094e0b0",
   "metadata": {},
   "outputs": [
    {
     "name": "stdout",
     "output_type": "stream",
     "text": [
      "1/1 [==============================] - 1s 519ms/step - loss: 0.9617 - mse: 0.9617\n",
      "Test Loss: 0.9617107510566711\n",
      "Test Accuracy: 0.9617107510566711\n"
     ]
    }
   ],
   "source": [
    "# Construct the test input\n",
    "x_test = np.column_stack((test['sepal_length'].values, test['sepal_width'].values))\n",
    "y_test = test['petal_length'].values\n",
    "\n",
    "# Evaluate the model on the test set\n",
    "loss, accuracy = model.evaluate(x_test, y_test)\n",
    "\n",
    "print('Test Loss:', loss)\n",
    "print('Test Accuracy:', accuracy)"
   ]
  },
  {
   "cell_type": "code",
   "execution_count": null,
   "id": "76a7a27d",
   "metadata": {},
   "outputs": [],
   "source": []
  }
 ],
 "metadata": {
  "kernelspec": {
   "display_name": "Python 3 (ipykernel)",
   "language": "python",
   "name": "python3"
  },
  "language_info": {
   "codemirror_mode": {
    "name": "ipython",
    "version": 3
   },
   "file_extension": ".py",
   "mimetype": "text/x-python",
   "name": "python",
   "nbconvert_exporter": "python",
   "pygments_lexer": "ipython3",
   "version": "3.10.9"
  }
 },
 "nbformat": 4,
 "nbformat_minor": 5
}
